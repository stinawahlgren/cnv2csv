{
 "cells": [
  {
   "cell_type": "markdown",
   "id": "54115152",
   "metadata": {},
   "source": [
    "# Convert Sea-Bird cnv file to csv\n",
    "Converts all cnv files in a folder to csv files."
   ]
  },
  {
   "cell_type": "code",
   "execution_count": null,
   "id": "3af93233",
   "metadata": {},
   "outputs": [],
   "source": [
    "datafolder = '' # Empty string = current folder\n",
    "verbose = False # Set to true to see what the script is doing"
   ]
  },
  {
   "cell_type": "code",
   "execution_count": null,
   "id": "5e5a54cb",
   "metadata": {},
   "outputs": [],
   "source": [
    "from pathlib import Path\n",
    "from pandas import read_csv\n",
    "from glob import glob"
   ]
  },
  {
   "cell_type": "code",
   "execution_count": null,
   "id": "fec122c8",
   "metadata": {},
   "outputs": [],
   "source": [
    "def cnv2csv(cnvfile, verbose = False):\n",
    "    if verbose:\n",
    "        print(f'--------------------------\\n{cnvfile}:\\n')\n",
    "    \n",
    "    # Get column names:\n",
    "    columns = [];\n",
    "         \n",
    "    with open(cnvfile) as file:\n",
    "        nbr_lines_in_header = 0\n",
    "        for line in file:\n",
    "            nbr_lines_in_header = nbr_lines_in_header+1\n",
    "            \n",
    "            if line[:6] == '# name':\n",
    "                columns.append(line.split(':')[1].rstrip('\\n')[1:]) #ignore first letter which will be a space \n",
    "                \n",
    "                if verbose:\n",
    "                    print(line)    \n",
    "            \n",
    "            elif line[:5] == '*END*':\n",
    "                break\n",
    "\n",
    "    # Read data\n",
    "    data = read_csv(cnvfile, \n",
    "                    skiprows=nbr_lines_in_header,\n",
    "                    delim_whitespace=True,\n",
    "                    names=columns)\n",
    "    \n",
    "    # Save as csv\n",
    "    savefile =  Path(cnvfile).with_suffix('.csv')\n",
    "    data.to_csv(savefile, sep=',', index=False)\n",
    "    \n",
    "    if verbose:\n",
    "        print(f'Saved data to {savefile}')"
   ]
  },
  {
   "cell_type": "markdown",
   "id": "f66b4ba4",
   "metadata": {},
   "source": [
    "The following files will be converted:"
   ]
  },
  {
   "cell_type": "code",
   "execution_count": null,
   "id": "9297dc25",
   "metadata": {},
   "outputs": [],
   "source": [
    "cnvfiles = sorted(glob(f'{datafolder}*.cnv'))\n",
    "cnvfiles"
   ]
  },
  {
   "cell_type": "code",
   "execution_count": null,
   "id": "0e861858",
   "metadata": {},
   "outputs": [],
   "source": [
    "for file in cnvfiles:\n",
    "    cnv2csv(file, verbose=verbose)"
   ]
  },
  {
   "cell_type": "code",
   "execution_count": null,
   "id": "864903da",
   "metadata": {},
   "outputs": [],
   "source": []
  }
 ],
 "metadata": {
  "kernelspec": {
   "display_name": "Python 3 (ipykernel)",
   "language": "python",
   "name": "python3"
  },
  "language_info": {
   "codemirror_mode": {
    "name": "ipython",
    "version": 3
   },
   "file_extension": ".py",
   "mimetype": "text/x-python",
   "name": "python",
   "nbconvert_exporter": "python",
   "pygments_lexer": "ipython3",
   "version": "3.10.10"
  }
 },
 "nbformat": 4,
 "nbformat_minor": 5
}
