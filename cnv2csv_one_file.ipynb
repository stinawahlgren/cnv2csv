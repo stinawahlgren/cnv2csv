{
 "cells": [
  {
   "cell_type": "markdown",
   "id": "021cb4ee",
   "metadata": {},
   "source": [
    "Aim: script that converts Sea-Bird csn file to a csv file with correct header"
   ]
  },
  {
   "cell_type": "code",
   "execution_count": null,
   "id": "bc454493",
   "metadata": {},
   "outputs": [],
   "source": [
    "import pandas as pd"
   ]
  },
  {
   "cell_type": "code",
   "execution_count": null,
   "id": "dd882488",
   "metadata": {},
   "outputs": [],
   "source": [
    "cnvfile = 'example.cnv'"
   ]
  },
  {
   "cell_type": "markdown",
   "id": "ac65e260",
   "metadata": {},
   "source": [
    "### Step 1:\n",
    "Read first part of file and find correct variable names"
   ]
  },
  {
   "cell_type": "code",
   "execution_count": null,
   "id": "22bb8f4b",
   "metadata": {},
   "outputs": [],
   "source": [
    "columns = [];\n",
    "\n",
    "with open(cnvfile) as file:\n",
    "    nbr_lines_in_header = 0\n",
    "    for line in file:\n",
    "        nbr_lines_in_header = nbr_lines_in_header+1\n",
    "        if line[:6] == '# name':\n",
    "            print(line)\n",
    "            columns.append(line.split(':')[1].rstrip('\\n')[1:]) #ignore first letter which will ba a space \n",
    "        elif line[:5] == '*END*':\n",
    "            break\n",
    "\n",
    "            \n",
    "print('--------------------------\\nColumns:')\n",
    "columns"
   ]
  },
  {
   "cell_type": "markdown",
   "id": "262ad2f0",
   "metadata": {},
   "source": [
    "### Step 2:\n",
    "Read the data-part of the file"
   ]
  },
  {
   "cell_type": "code",
   "execution_count": null,
   "id": "9193099f",
   "metadata": {},
   "outputs": [],
   "source": [
    "data = pd.read_csv(cnvfile, \n",
    "                   skiprows=nbr_lines_in_header,\n",
    "                   delim_whitespace=True,\n",
    "                   names=columns)\n",
    "data"
   ]
  },
  {
   "cell_type": "markdown",
   "id": "566e398c",
   "metadata": {},
   "source": [
    "### Step 3:\n",
    "Save as csv!"
   ]
  },
  {
   "cell_type": "code",
   "execution_count": null,
   "id": "6c1618df",
   "metadata": {},
   "outputs": [],
   "source": [
    "savefile =  cnvfile[:-3] + 'csv'\n",
    "data.to_csv(savefile, sep=',', index=False)"
   ]
  }
 ],
 "metadata": {
  "kernelspec": {
   "display_name": "Python 3 (ipykernel)",
   "language": "python",
   "name": "python3"
  },
  "language_info": {
   "codemirror_mode": {
    "name": "ipython",
    "version": 3
   },
   "file_extension": ".py",
   "mimetype": "text/x-python",
   "name": "python",
   "nbconvert_exporter": "python",
   "pygments_lexer": "ipython3",
   "version": "3.10.10"
  }
 },
 "nbformat": 4,
 "nbformat_minor": 5
}
